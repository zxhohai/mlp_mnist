{
 "cells": [
  {
   "cell_type": "code",
   "execution_count": null,
   "metadata": {},
   "outputs": [],
   "source": [
    "import os\n",
    "os.chdir(\"/root/jupyter_workspace/ml_demo/\")     # 替换成自己的目录\n",
    "print(os.getcwd())"
   ]
  },
  {
   "cell_type": "markdown",
   "metadata": {},
   "source": [
    "# 加载数据集\n",
    "train_set,valid_set与test_set分别是训练集，验证集和测试集，以tuple的形式组织(x,y)，x代表样本，y代表样本标签"
   ]
  },
  {
   "cell_type": "code",
   "execution_count": 3,
   "metadata": {},
   "outputs": [],
   "source": [
    "def load_data():\n",
    "    f = gzip.open(\"mnist.pkl.gz\", \"rb\")\n",
    "    train_set, valid_set, test_set = pickle.load(f, encoding=\"latin1\")\n",
    "    f.close()\n",
    "    return [train_set, valid_set, test_set]"
   ]
  },
  {
   "cell_type": "markdown",
   "metadata": {},
   "source": [
    "# 定义损失函数\n",
    "多分类问题，采用**负对数似然函数**作为损失函数。p_y_given_x是模型的预测，是一个m\\*10的二维数组，每一行代表一个样本，每一列代表模型预测样本是0~9的概率。np.arange(y.shape[0])是一个一维数组，包含[0,1,$\\dots$,m-1]，y是样本对应的真实标签，是一个一维数组。p_y_given_x[[0,1,$\\dots$,m-1][y[0],y[1],$\\dots$,y[m-1]]]等价于p_y_given_x[0,y[0]]，p_y_given_x[1,y[1]]，$\\dots$，p_y_given_x[m-1,y[m-1]]，即取出每个样本真实类别对应的模型预测值，我们希望这个值越大越好。\n",
    "\n",
    "$$\n",
    "C=-\\log y_r\n",
    "$$\n",
    "\n",
    "$$\n",
    "y_r=\\frac{e^{z_r}}{\\sum_ke^{z_k}}\n",
    "$$"
   ]
  },
  {
   "cell_type": "markdown",
   "metadata": {},
   "source": [
    "求导\n",
    "\n",
    "**1、i=r**\n",
    "\n",
    "$$\n",
    "\\frac{\\partial C}{\\partial z_r}=\\frac{\\partial C}{\\partial y_r}\\frac{\\partial y_r}{\\partial z_r}=-\\frac{1}{y_r}(\\frac{e^{z_r}}{\\sum_ke^{z_k}}-e^{z_r}\\frac{e^{z_r}}{(\\sum_ke^{z_k})^2})=-\\frac{1}{y_r}(y_r-y_r^2)=y_r-1\n",
    "$$\n",
    "\n",
    "**2、i != r**\n",
    "\n",
    "$$\n",
    "\\frac{\\partial C}{\\partial z_i}=\\frac{\\partial C}{\\partial y_r}\\frac{\\partial y_r}{\\partial z_i}=-\\frac{1}{y_r}(-e^{z_r}\\frac{e^{z_i}}{(\\sum_ke^{z_k})^2})=-\\frac{1}{y_r}(-y_ry_r)=y_i-0\n",
    "$$\n",
    "\n",
    "统一起来，有\n",
    "$$\n",
    "\\frac{\\partial C}{\\partial z_i}=y_i - \\hat{y}_i\n",
    "$$"
   ]
  },
  {
   "cell_type": "code",
   "execution_count": 4,
   "metadata": {},
   "outputs": [],
   "source": [
    "# 定义损失函数\n",
    "def negative_log_likehood(p_y_given_x, y):\n",
    "    return -np.mean(np.log(p_y_given_x)[np.arange(y.shape[0]), y])"
   ]
  },
  {
   "cell_type": "markdown",
   "metadata": {},
   "source": [
    "# 统计错误样本数目\n",
    "首先需要根据网络的预测概率，选择概率最大的作为网络预测标签"
   ]
  },
  {
   "cell_type": "code",
   "execution_count": 5,
   "metadata": {},
   "outputs": [],
   "source": [
    "# 得到每个样本的预测标签\n",
    "def pred_lable(p_y_given_x):\n",
    "    y_pred = []\n",
    "    for i in range(p_y_given_x.shape[0]):\n",
    "        max_index = np.argwhere(p_y_given_x[i] == np.max(p_y_given_x[i]))\n",
    "        y_pred.append(max_index[0,0])\n",
    "    # print(y_pred[:50])\n",
    "    return np.array(y_pred)"
   ]
  },
  {
   "cell_type": "markdown",
   "metadata": {},
   "source": [
    "错误样本数能直观展示模型性能"
   ]
  },
  {
   "cell_type": "code",
   "execution_count": 6,
   "metadata": {},
   "outputs": [],
   "source": [
    "# 统计预测错误样本数目\n",
    "def error(y_pred, y):\n",
    "    # print(y[:50])\n",
    "    return np.sum((y_pred == y) == False)"
   ]
  },
  {
   "cell_type": "markdown",
   "metadata": {},
   "source": [
    "# 构造样本真实标签矩阵\n",
    "原始数据集中，每个样本的标签对应的是一个标量，直接指示样本是哪个数字。但在计算梯度中，需要将y扩充成与模型输出维度相同的向量。"
   ]
  },
  {
   "cell_type": "code",
   "execution_count": 7,
   "metadata": {},
   "outputs": [],
   "source": [
    "# 构造样本真实标签矩阵\n",
    "def getTruthmatrix(y):\n",
    "    matrix = np.zeros((len(y), 10))\n",
    "    for i in np.arange(len(y)):\n",
    "        matrix[i, y[i]] = 1\n",
    "    return matrix"
   ]
  },
  {
   "cell_type": "markdown",
   "metadata": {},
   "source": [
    "# sigmoid函数以及其导数"
   ]
  },
  {
   "cell_type": "code",
   "execution_count": 8,
   "metadata": {},
   "outputs": [],
   "source": [
    "# Sigmoid函数\n",
    "def sigmoid(x):\n",
    "    return 1.0 / (1 + np.exp(-x))"
   ]
  },
  {
   "cell_type": "code",
   "execution_count": 9,
   "metadata": {},
   "outputs": [],
   "source": [
    "# Sigmoid函数的导数\n",
    "def sigmoid_derivative(x):\n",
    "    return sigmoid(x) * (1 - sigmoid(x))"
   ]
  },
  {
   "cell_type": "markdown",
   "metadata": {},
   "source": [
    "# 初始化权重w\n",
    "确定了隐含层数目、隐含层神经元数目，并初始化连接权重，神经网络模型就确定了"
   ]
  },
  {
   "cell_type": "code",
   "execution_count": 10,
   "metadata": {},
   "outputs": [],
   "source": [
    "def hiddenLayer(n_input, n_output, hidden_unit, rand):\n",
    "    W = []\n",
    "    try:\n",
    "        if len(hidden_unit) == 1:\n",
    "            w_0 = np.asarray(rand.uniform(low=-np.sqrt(6. / (n_input + hidden_unit[0])), \n",
    "                                          high=np.sqrt(6. / (n_input + hidden_unit[0])), \n",
    "                                          size=(n_input, hidden_unit[0])))\n",
    "            w_0 *= 4\n",
    "            W.append(w_0)\n",
    "            w_1 = np.asarray(rand.uniform(low=-np.sqrt(6. / (hidden_unit[0] + n_output)), \n",
    "                                          high=np.sqrt(6. / (hidden_unit[0] + n_output)), \n",
    "                                          size=(hidden_unit[0], n_output)))\n",
    "            w_1 *= 4\n",
    "            W.append(w_1)\n",
    "        else:\n",
    "            w_0 = 4 * np.asarray(rand.uniform(low=-np.sqrt(6. / (n_input + hidden_unit[0])), \n",
    "                                              high=np.sqrt(6. / (n_input + hidden_unit[0])), \n",
    "                                              size=(n_input, hidden_unit[0])))\n",
    "            W.append(w_0)\n",
    "            for i in range(len(hidden_unit) - 1):\n",
    "                W.append(4 * np.asarray(rand.uniform(low=-np.sqrt(6. / (hidden_unit[i] + hidden_unit[i + 1])), \n",
    "                                                     high=np.sqrt(6. / (hidden_unit[i] + hidden_unit[i + 1])), \n",
    "                                                     size=(hidden_unit[i], hidden_unit[i + 1])))\n",
    "                        )\n",
    "            W.append(4 * np.asarray(rand.uniform(low=-np.sqrt(6. / (hidden_unit[-1] + n_output)), \n",
    "                                                 high=np.sqrt(6. / (hidden_unit[-1] + n_output)), \n",
    "                                                 size=(hidden_unit[-1], n_output)))\n",
    "                     )\n",
    "    except:\n",
    "        print(\"hidden_unit输入需要一个列表\")\n",
    "        pass\n",
    "    \n",
    "    return W"
   ]
  },
  {
   "cell_type": "markdown",
   "metadata": {},
   "source": [
    "# 计算$|w|$的导数"
   ]
  },
  {
   "cell_type": "code",
   "execution_count": 12,
   "metadata": {},
   "outputs": [],
   "source": [
    "def sign(w):\n",
    "    # 计算|w|的导数，使用L1正则化时需要\n",
    "    w = np.where(w > 0, 1, w)\n",
    "    w = np.where(w >= 0, w, -1)\n",
    "    \n",
    "    return w"
   ]
  },
  {
   "cell_type": "markdown",
   "metadata": {},
   "source": [
    "# 正向传播\n",
    "正向传播，得到模型预测值"
   ]
  },
  {
   "cell_type": "code",
   "execution_count": 13,
   "metadata": {},
   "outputs": [],
   "source": [
    "# 正向传播\n",
    "def forward_porpagation(x, W):\n",
    "    activations = [x]    # 用于存储每一层的输出\n",
    "    zs = [x]    # 用于存储每一层的输入\n",
    "    a = x\n",
    "    # 隐藏层\n",
    "    for i in range(len(W) - 1):\n",
    "        z = np.dot(a, W[i])\n",
    "        zs.append(z)\n",
    "        a = sigmoid(z)\n",
    "        activations.append(a)\n",
    "    # 输出层\n",
    "    z = np.dot(a, W[-1])\n",
    "    e = np.exp(z)\n",
    "    zs.append(z)\n",
    "    p = (np.transpose(e) / np.sum(e, axis=1)).T\n",
    "    activations.append(p)\n",
    "    \n",
    "    return (activations, zs)"
   ]
  },
  {
   "cell_type": "markdown",
   "metadata": {},
   "source": [
    "# BP算法\n",
    "采用BP算法，计算每一层连接$w$的梯度\n",
    "因为\n",
    "$$\n",
    "\\frac{\\partial C}{\\partial w_{ij}^l}=\\frac{\\partial C}{\\partial z_j^l}\\frac{\\partial z_j^l}{\\partial w_{ij}^l}\n",
    "$$\n",
    "关键是求$\\frac{\\partial C}{\\partial z_j^l}$，令其等于$\\delta_{j}^l$\n",
    "\n",
    "**1、输出层**\n",
    "$$\n",
    "\\frac{\\partial C}{\\partial z_j^L}=\\frac{\\partial C}{\\partial y_j^L}\\frac{\\partial y_j^L}{\\partial z_j^L}=\\nabla C(y^L)*\\delta '(z_j^L)\n",
    "$$\n",
    "\n",
    "**2、非输出层**\n",
    "$$\n",
    "\\frac{\\partial C}{\\partial z_j^l}=\\sum_k\\frac{\\partial C}{\\partial z_k^{l+1}}\\frac{\\partial z_k^{l+1}}{\\partial a_j^l}\\frac{\\partial a_j^l}{\\partial z_j^l}=\\sum_k \\delta_k^{l+1}w_{jk}^{l+1}\\delta '(z_j^l)\n",
    "$$"
   ]
  },
  {
   "cell_type": "code",
   "execution_count": 14,
   "metadata": {},
   "outputs": [],
   "source": [
    "# 反向传播算法\n",
    "def backprop(activations, zs, w, y, L1_reg, L2_reg):\n",
    "    grad_w = [np.zeros(weight.shape) for weight in w]\n",
    "    # 反向传播\n",
    "    delta = activations[-1] - y    # 最后一层, m*10\n",
    "    grad_w[-1] = np.dot(np.transpose(activations[-2]), delta)\n",
    "    for l in range(2, len(w) + 1):\n",
    "        delta = np.dot(delta, w[-l+1].transpose()) * sigmoid_derivative(zs[-l])     # 其它层\n",
    "        grad_w[-l] = np.dot(np.transpose(activations[-l-1]), delta) / y.shape[0] + L1_reg * sign(w[-l]) + L2_reg * w[-l]\n",
    "        \n",
    "    return grad_w"
   ]
  },
  {
   "cell_type": "markdown",
   "metadata": {},
   "source": [
    "计算出梯度后，对$w$沿着梯度的反方向更新\n",
    "$$\n",
    "w^{n+1} = w^{n} - \\alpha\\nabla C(w^{n})\n",
    "$$"
   ]
  },
  {
   "cell_type": "code",
   "execution_count": 15,
   "metadata": {},
   "outputs": [],
   "source": [
    "# 每一次参数更新\n",
    "def step_gradient(y_truth_matrix, w_current, activations, zs, alpha, L1_reg, L2_reg):\n",
    "    if len(w_current) > 1:\n",
    "        # 多层网络，采用反向传播计算梯度\n",
    "        grad_w = backprop(activations, zs, w_current, y_truth_matrix, L1_reg, L2_reg)\n",
    "        # 更新参数\n",
    "        new_w = [w - nw * alpha for w, nw in zip(w_current, grad_w)]\n",
    "    else:\n",
    "        # 无隐含层，直接计算当前w对应的梯度\n",
    "        new_w = []\n",
    "        grad_w = np.dot(np.transpose(activations[-2]), activations[-1] - y_truth_matrix) / y_truth_matrix.shape[0]\n",
    "        grad_w = grad_w + L1_reg * sign(w_current[-1]) + L2_reg * w_current[-1]\n",
    "        # 更新参数\n",
    "        new_w.append(w_current[-1] - grad_w * alpha)\n",
    "    \n",
    "    return new_w"
   ]
  },
  {
   "cell_type": "markdown",
   "metadata": {},
   "source": [
    "# 梯度下降\n",
    "梯度下降更新梯度"
   ]
  },
  {
   "cell_type": "code",
   "execution_count": 16,
   "metadata": {},
   "outputs": [],
   "source": [
    "def gradient_descent(x, y, w_initial, alpha, L1_reg, L2_reg):\n",
    "    w = w_initial\n",
    "    \n",
    "    y_truth_matrix = getTruthmatrix(y)\n",
    "    # print(y_truth_matrix.shape)\n",
    "    \n",
    "    # 正向传播得到模型预测值\n",
    "    activations, zs = forward_porpagation(x, w)\n",
    "    probabilities = activations[-1]\n",
    "    if L1_reg != 0.00:\n",
    "        L1 = sum([abs(w_i).sum() for w_i in w])    # L1 norm\n",
    "    else:\n",
    "        L1 = 0\n",
    "    if L2_reg != 0.00:\n",
    "        L2_sqr = sum([(w_i ** 2).sum() for w_i in w])   # L2 norm\n",
    "    else:\n",
    "        L2_sqr = 0\n",
    "    # 总体损失 = 负对数似然代价 + 正则化惩罚\n",
    "    cost = negative_log_likehood(probabilities, y) + L1_reg * L1 + 0.5 * L2_reg * L2_sqr  # 权重w更新前的误差\n",
    "    \n",
    "    # 更新参数 \n",
    "    w = step_gradient(y_truth_matrix, w, activations, zs, alpha, L1_reg, L2_reg)\n",
    "    \n",
    "    return (w, cost)"
   ]
  },
  {
   "cell_type": "markdown",
   "metadata": {},
   "source": [
    "# 验证模型\n",
    "在验证集上验证模型性能"
   ]
  },
  {
   "cell_type": "code",
   "execution_count": 17,
   "metadata": {},
   "outputs": [],
   "source": [
    "def valid_model(valid_set_x, valid_set_y, W):\n",
    "    # 在验证集上验证模型性能\n",
    "    p_y_given_valid_x = forward_porpagation(valid_set_x, W)[0][-1]\n",
    "    valid_y_pred = pred_lable(p_y_given_valid_x)  # 验证集上预测标签\n",
    "    cost_valid = negative_log_likehood(p_y_given_valid_x, valid_set_y)   # 验证集上损失\n",
    "    error_num_valid = error(valid_y_pred, valid_set_y)   # 验证集上预测错误数目\n",
    "    \n",
    "    return (cost_valid, error_num_valid)"
   ]
  },
  {
   "cell_type": "markdown",
   "metadata": {},
   "source": [
    "# 测试模型\n",
    "在测试集上测试模型结果 "
   ]
  },
  {
   "cell_type": "code",
   "execution_count": 18,
   "metadata": {},
   "outputs": [],
   "source": [
    "def test_model(test_set_x, test_set_y, W):\n",
    "    # 测试集上测试模型\n",
    "    p_y_given_test_x = forward_porpagation(test_set_x, W)[0][-1]\n",
    "    test_y_pred = pred_lable(p_y_given_test_x)\n",
    "    error_num_test =  error(test_y_pred, test_set_y)\n",
    "    test_precision = 1 - error_num_test / test_set_x.shape[0]\n",
    "    \n",
    "    return test_precision"
   ]
  },
  {
   "cell_type": "markdown",
   "metadata": {},
   "source": [
    "# 模型构建与优选\n",
    "初始化权重w，超参数"
   ]
  },
  {
   "cell_type": "code",
   "execution_count": 19,
   "metadata": {},
   "outputs": [],
   "source": [
    "def build_model(datasets, w_initial, alpha, n_epochs, epsilon, batch_size, L1_reg, L2_reg):\n",
    "    W = w_initial\n",
    "    \n",
    "    # 训练集，验证集，测试集\n",
    "    train_set_x, train_set_y = datasets[0]      \n",
    "    valid_set_x, valid_set_y = datasets[1]\n",
    "    test_set_x, test_set_y = datasets[2]\n",
    "    \n",
    "    # 将数据集分成较小的batch\n",
    "    n_train_batches = train_set_x.shape[0] // batch_size     # 训练集划分成batch数目\n",
    "    \n",
    "    # 模型训练\n",
    "    best_valid_cost = 0\n",
    "    validation_frequency = 100   # 梯度下降迭代validation_frequency次，在验证集上验证一次模型性能\n",
    "    epoch = 0\n",
    "    done_looping = False\n",
    "    while (epoch < n_epochs) and (not done_looping):\n",
    "        epoch += 1\n",
    "        for batch_index in range(n_train_batches):\n",
    "            x = train_set_x[batch_index * batch_size: (batch_index + 1) * batch_size]  # 每次训练的x\n",
    "            y = train_set_y[batch_index * batch_size: (batch_index + 1) * batch_size]  # 对应的y\n",
    "            # 训练模型\n",
    "            W, cost_train = gradient_descent(x, y, W, alpha, L1_reg, L2_reg)\n",
    "            # 验证模型\n",
    "            cost_valid, error_num_valid = valid_model(valid_set_x, valid_set_y, W)\n",
    "            this_validation_loss = error_num_valid / valid_set_x.shape[0]       # 错误率\n",
    "            \n",
    "            num_iter = (epoch - 1) * n_train_batches + batch_index\n",
    "            if num_iter % validation_frequency == 0:\n",
    "                # 跟踪验证集上性能变化\n",
    "                print(\"梯度下降迭代%d次后，验证集上误差为：%f，准确率为：%f%%\" % (num_iter, cost_valid, (1 - this_validation_loss) * 100))\n",
    "            \n",
    "            # 判断是否early stopping\n",
    "            if abs(cost_valid - best_valid_cost) < epsilon:\n",
    "                done_looping = True\n",
    "                print(\"验证集上误差不再下降，模型训练结束\")\n",
    "                break\n",
    "            else:\n",
    "                best_valid_cost = cost_valid\n",
    "              \n",
    "    if not done_looping:\n",
    "        print(\"达到最大epoch次数，模型训练结束\")\n",
    "    \n",
    "    # 模型测试\n",
    "    test_precision = test_model(test_set_x, test_set_y, W)\n",
    "    print(\"测试集上模型准确率为：%f%%\" % (test_precision * 100))"
   ]
  },
  {
   "cell_type": "markdown",
   "metadata": {},
   "source": [
    "# 测试softmaxRegression回归\n",
    "1、读取数据\n",
    "\n",
    "2、指定超参数\n",
    "\n",
    "3、随机初始化$w$，构建模型\n",
    "\n",
    "4、在训练集训练模型"
   ]
  },
  {
   "cell_type": "code",
   "execution_count": 21,
   "metadata": {},
   "outputs": [
    {
     "data": {
      "image/png": "[encoded data removed]",
      "text/plain": [
       "<IPython.core.display.Image object>"
      ]
     },
     "execution_count": 21,
     "metadata": {
      "image/png": {
       "height": 300,
       "width": 600
      }
     },
     "output_type": "execute_result"
    }
   ],
   "source": [
    "from IPython.display import Image\n",
    "Image(filename = 'softmax.png', width=600, height=300)"
   ]
  },
  {
   "cell_type": "code",
   "execution_count": 22,
   "metadata": {},
   "outputs": [],
   "source": [
    "def softmaxRegression(datasets):\n",
    "    # 指定超参数\n",
    "    alpha = 0.15\n",
    "    n_epochs = 1000\n",
    "    epsilon = 0.00001\n",
    "    batch_size = 600\n",
    "    L1_reg = 0.00\n",
    "    L2_reg = 0.00\n",
    "    \n",
    "    # 随机初始化w\n",
    "    input_size = 784\n",
    "    output_size = 10\n",
    "    rand = np.random.RandomState(int(time.time()))\n",
    "    # w_initial = np.asarray(rand.normal(size=(input_size*output_size, 1))).reshape(input_size, 10)\n",
    "    w_initial = np.asarray(rand.uniform(low=-np.sqrt(6. / (input_size + output_size)), \n",
    "                                        high=np.sqrt(6. / (input_size + output_size)), \n",
    "                                        size=(input_size, output_size)))\n",
    "    W = [w_initial]\n",
    "    \n",
    "    # 构建模型\n",
    "    build_model(datasets, W, alpha, n_epochs, epsilon, batch_size, L1_reg, L2_reg)"
   ]
  },
  {
   "cell_type": "markdown",
   "metadata": {},
   "source": [
    "# 测试BP神经网络\n",
    "1、读取数据\n",
    "\n",
    "2、指定超参数\n",
    "\n",
    "3、指定隐含层层数、每层神经元数目，并随机初始化$w$，构建模型\n",
    "\n",
    "4、在训练集训练模型"
   ]
  },
  {
   "cell_type": "code",
   "execution_count": 23,
   "metadata": {},
   "outputs": [
    {
     "data": {
      "image/png": "[encoded data removed]",
      "text/plain": [
       "<IPython.core.display.Image object>"
      ]
     },
     "execution_count": 23,
     "metadata": {
      "image/png": {
       "height": 300,
       "width": 500
      }
     },
     "output_type": "execute_result"
    }
   ],
   "source": [
    "from IPython.display import Image\n",
    "Image(filename = 'mlp.png', width=500, height=300)"
   ]
  },
  {
   "cell_type": "markdown",
   "metadata": {},
   "source": [
    "在训练集上采用batch gradient descent训练模型，在验证集上验证模型性能"
   ]
  },
  {
   "cell_type": "code",
   "execution_count": 24,
   "metadata": {},
   "outputs": [],
   "source": [
    "def mlp(datasets):\n",
    "    # 指定超参数\n",
    "    alpha = 0.01   # 步长，学习率 \n",
    "    n_epochs = 1000    # epoch次数，将整个训练集迭代一遍叫一个epoch\n",
    "    epsilon = 0.00001     # 梯度下降提前停止阈值\n",
    "    batch_size = 10   # batch大小\n",
    "    L1_reg = 0.00     # L1正则化参数\n",
    "    L2_reg = 0.001   # L2正则化参数\n",
    "    \n",
    "    # 初始化权重w\n",
    "    input_size = 784   # 输入层神经元数目\n",
    "    output_size = 10    # 输出层神经元数目\n",
    "    rand = np.random.RandomState(int(time.time()))\n",
    "    hidden_unit = [500]   # 隐含层神经元数目\n",
    "    W = hiddenLayer(input_size, output_size, hidden_unit, rand)    # 初始化连接权重\n",
    "    \n",
    "    # 构建模型与调优\n",
    "    build_model(datasets, W, alpha, n_epochs, epsilon, batch_size, L1_reg, L2_reg)"
   ]
  },
  {
   "cell_type": "markdown",
   "metadata": {},
   "source": [
    "# 代码入口"
   ]
  },
  {
   "cell_type": "code",
   "execution_count": null,
   "metadata": {},
   "outputs": [],
   "source": [
    "import pickle, gzip\n",
    "import numpy as np\n",
    "import time\n",
    "import timeit\n",
    "\n",
    "if __name__ == \"__main__\":\n",
    "    # 加载数据\n",
    "    datasets = load_data()\n",
    "\n",
    "    starttime = timeit.default_timer()     # 开始训练时间\n",
    "    \n",
    "    # 选择模型\n",
    "    print(\"请选择模型类型：1、softmaxRegression；2、mlp\")\n",
    "    model_type = input()\n",
    "    if int(model_type) == 1:\n",
    "        softmaxRegression(datasets)\n",
    "    elif int(model_type) == 2:\n",
    "        mlp(datasets)\n",
    "    else:\n",
    "        print(\"暂时没有这类模型\")\n",
    "    \n",
    "    endtime = timeit.default_timer()   # 结束训练时间\n",
    "    print(\"代码运行%.2f分钟\" %((endtime - starttime) / 60.))"
   ]
  },
  {
   "cell_type": "markdown",
   "metadata": {},
   "source": [
    "# 显示数据集信息"
   ]
  },
  {
   "cell_type": "code",
   "execution_count": null,
   "metadata": {},
   "outputs": [],
   "source": [
    "datasets = load_data()\n",
    "train_set_x, train_set_y = datasets[0]\n",
    "valid_set_x, valid_set_y = datasets[1]\n",
    "test_set_x, test_set_y = datasets[2]\n",
    "print(train_set_x.shape)\n",
    "print(valid_set_x.shape)\n",
    "print(test_set_x.shape)\n",
    "print(type(train_set_x))\n",
    "# train_set_x.get_value(borrow=True).shape[0]"
   ]
  },
  {
   "cell_type": "markdown",
   "metadata": {},
   "source": [
    "样本以numpy数组的形式存储，且其大小为50000\\*784，每一行代表一个样本，每个样本由784维（28\\*28）特征表示。"
   ]
  },
  {
   "cell_type": "markdown",
   "metadata": {},
   "source": [
    "# 显示图片样例\n",
    "取任意一个样本，将其反归一化并转换为整型，然后采用Image将其显示。"
   ]
  },
  {
   "cell_type": "code",
   "execution_count": null,
   "metadata": {},
   "outputs": [],
   "source": [
    "from PIL import Image\n",
    "import matplotlib.pyplot as plt\n",
    "%matplotlib inline\n",
    "\n",
    "datasets = load_data()\n",
    "\n",
    "train_set_x, train_set_y = datasets[0]      \n",
    "valid_set_x, valid_set_y = datasets[1]\n",
    "test_set_x, test_set_y = datasets[2]\n",
    "\n",
    "# print(train_set_x[1].shape)\n",
    "image_array = train_set_x[1].reshape(28, 28) * 255\n",
    "image_array = np.uint8(image_array)\n",
    "# print(image_array)\n",
    "print(train_set_y[1])     # 标签\n",
    "\n",
    "image = Image.fromarray(image_array, mode=\"L\")\n",
    "# image.show()\n",
    "plt.figure(\"Image\") # 图像窗口名称\n",
    "plt.imshow(image)\n",
    "plt.axis('off') # 关掉坐标轴为 off\n",
    "plt.show()"
   ]
  }
 ],
 "metadata": {
  "kernelspec": {
   "display_name": "Python 3",
   "language": "python",
   "name": "python3"
  },
  "language_info": {
   "codemirror_mode": {
    "name": "ipython",
    "version": 3
   },
   "file_extension": ".py",
   "mimetype": "text/x-python",
   "name": "python",
   "nbconvert_exporter": "python",
   "pygments_lexer": "ipython3",
   "version": "3.7.0"
  }
 },
 "nbformat": 4,
 "nbformat_minor": 2
}
